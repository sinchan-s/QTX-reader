{
 "cells": [
  {
   "cell_type": "code",
   "execution_count": 5,
   "metadata": {},
   "outputs": [],
   "source": [
    "import pandas as pd\n",
    "import matplotlib.pyplot as plt\n",
    "%matplotlib inline"
   ]
  },
  {
   "cell_type": "code",
   "execution_count": 10,
   "metadata": {},
   "outputs": [
    {
     "name": "stdout",
     "output_type": "stream",
     "text": [
      "[STANDARD_DATA          0]\n",
      "STD_NAME=BEACH BALL BLUE 607\n",
      "STD_DATETIME=1348927687,\n",
      "STD_REFLPOINTS=35,\n",
      "STD_REFLINTERVAL=10,\n",
      "STD_REFLLOW=360,\n",
      "STD_VIEWING=%R LAV SCI UV UV Cal\n",
      "STD_GUID=0a69d9a5-c28e-4af8-8ac1-15d1ccef5a9e\n",
      "STD_R=21.2400,24.0800,27.2200,30.7600,34.8800,39.4800,44.1700,49.0100,52.8800,53.8400,52.3200,49.7800,46.5300,42.9700,39.4400,36.1000,32.8900,29.8100,26.9400,24.4000,22.1800,20.0700,18.2700,16.7900,15.6200,15.0700,14.9200,14.9200,15.2500,15.6500,15.3400,14.9500,16.0300,20.8000,29.3400\n",
      "STD_INSTRUMENT_SERIAL_NO=\n",
      "[STANDARD_DATA          1]\n",
      "STD_NAME=KHAKI 681\n",
      "STD_DATETIME=1209496566,\n",
      "STD_REFLPOINTS=31,\n",
      "STD_REFLINTERVAL=10,\n",
      "STD_REFLLOW=400,\n",
      "STD_VIEWING=%R LAV  SCI UV 400\n",
      "STD_GUID=2716f077-808e-404c-99ab-1824e8039174\n",
      "STD_R=23.7000,22.8400,22.3200,22.1000,22.2300,22.9700,24.1800,25.5100,26.9700,28.2900,29.8100,30.9000,31.6000,32.2100,32.2600,31.5000,31.0800,32.0000,34.0900,35.9100,36.5400,36.1700,35.9100,37.3200,41.0300,47.0000,54.2600,61.8000,68.5500,73.0300,76.5900\n",
      "STD_INSTRUMENT_SERIAL_NO=4939_CSI\n",
      "\n"
     ]
    }
   ],
   "source": [
    "myfile = open('test.QTX', \"r\")\n",
    "print(myfile.read())"
   ]
  },
  {
   "cell_type": "code",
   "execution_count": 11,
   "metadata": {},
   "outputs": [],
   "source": [
    "for x in myfile:\n",
    "    print(x)"
   ]
  },
  {
   "cell_type": "code",
   "execution_count": null,
   "metadata": {},
   "outputs": [],
   "source": []
  }
 ],
 "metadata": {
  "kernelspec": {
   "display_name": "Python 3 (ipykernel)",
   "language": "python",
   "name": "python3"
  },
  "language_info": {
   "codemirror_mode": {
    "name": "ipython",
    "version": 3
   },
   "file_extension": ".py",
   "mimetype": "text/x-python",
   "name": "python",
   "nbconvert_exporter": "python",
   "pygments_lexer": "ipython3",
   "version": "3.10.0"
  },
  "vscode": {
   "interpreter": {
    "hash": "369f2c481f4da34e4445cda3fffd2e751bd1c4d706f27375911949ba6bb62e1c"
   }
  }
 },
 "nbformat": 4,
 "nbformat_minor": 2
}
