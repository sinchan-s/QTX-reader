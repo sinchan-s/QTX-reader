{
 "cells": [
  {
   "cell_type": "code",
   "execution_count": 1,
   "metadata": {},
   "outputs": [],
   "source": [
    "import re\n",
    "import pandas as pd\n",
    "import matplotlib.pyplot as plt\n",
    "%matplotlib inline"
   ]
  },
  {
   "cell_type": "code",
   "execution_count": 2,
   "metadata": {
    "collapsed": true
   },
   "outputs": [
    {
     "name": "stdout",
     "output_type": "stream",
     "text": [
      "[STANDARD_DATA          0]\n",
      "STD_NAME=BEACH BALL BLUE 607\n",
      "STD_DATETIME=1348927687,\n",
      "STD_REFLPOINTS=35,\n",
      "STD_REFLINTERVAL=10,\n",
      "STD_REFLLOW=360,\n",
      "STD_VIEWING=%R LAV SCI UV UV Cal\n",
      "STD_GUID=0a69d9a5-c28e-4af8-8ac1-15d1ccef5a9e\n",
      "STD_R=21.2400,24.0800,27.2200,30.7600,34.8800,39.4800,44.1700,49.0100,52.8800,53.8400,52.3200,49.7800,46.5300,42.9700,39.4400,36.1000,32.8900,29.8100,26.9400,24.4000,22.1800,20.0700,18.2700,16.7900,15.6200,15.0700,14.9200,14.9200,15.2500,15.6500,15.3400,14.9500,16.0300,20.8000,29.3400\n",
      "STD_INSTRUMENT_SERIAL_NO=\n",
      "[STANDARD_DATA          1]\n",
      "STD_NAME=KHAKI 681\n",
      "STD_DATETIME=1209496566,\n",
      "STD_REFLPOINTS=31,\n",
      "STD_REFLINTERVAL=10,\n",
      "STD_REFLLOW=400,\n",
      "STD_VIEWING=%R LAV  SCI UV 400\n",
      "STD_GUID=2716f077-808e-404c-99ab-1824e8039174\n",
      "STD_R=23.7000,22.8400,22.3200,22.1000,22.2300,22.9700,24.1800,25.5100,26.9700,28.2900,29.8100,30.9000,31.6000,32.2100,32.2600,31.5000,31.0800,32.0000,34.0900,35.9100,36.5400,36.1700,35.9100,37.3200,41.0300,47.0000,54.2600,61.8000,68.5500,73.0300,76.5900\n",
      "STD_INSTRUMENT_SERIAL_NO=4939_CSI\n",
      "\n"
     ]
    }
   ],
   "source": [
    "with open('test.QTX') as f:\n",
    "    contents = f.read()\n",
    "    print(contents)"
   ]
  },
  {
   "attachments": {},
   "cell_type": "markdown",
   "metadata": {},
   "source": [
    "## No. of Standards"
   ]
  },
  {
   "cell_type": "code",
   "execution_count": 3,
   "metadata": {},
   "outputs": [
    {
     "name": "stdout",
     "output_type": "stream",
     "text": [
      "true,  1 ; line no:  1 ; occurence:  1\n",
      "true,  1 ; line no:  11 ; occurence:  2\n",
      "total occurences:  2\n"
     ]
    }
   ],
   "source": [
    "target = 'STANDARD_DATA'\n",
    "\n",
    "with open('test.QTX') as f:\n",
    "    lines = f.readlines()\n",
    "    i,j = 1,1\n",
    "    for row in lines:\n",
    "        #print(row)\n",
    "        if row.find(target) != -1:\n",
    "            print('true, ', row.find(target), '; line no: ', i, '; occurence: ',j)\n",
    "            j = j + 1\n",
    "        i = i + 1\n",
    "print('total occurences: ', j-1)"
   ]
  },
  {
   "cell_type": "code",
   "execution_count": 4,
   "metadata": {},
   "outputs": [
    {
     "name": "stdout",
     "output_type": "stream",
     "text": [
      "string does not exist in a file\n",
      "string does not exist in a file\n",
      "string does not exist in a file\n",
      "string does not exist in a file\n",
      "string does not exist in a file\n",
      "string found in a file\n"
     ]
    }
   ],
   "source": [
    "target = 'STD_REFLLOW'\n",
    "\n",
    "with open('test.QTX') as f:\n",
    "    for index, line in enumerate(f):\n",
    "        if target in line:\n",
    "            print('string found in a file')\n",
    "            break\n",
    "        else: \n",
    "            print('string does not exist in a file')"
   ]
  },
  {
   "attachments": {},
   "cell_type": "markdown",
   "metadata": {},
   "source": [
    "## Starting wavelength"
   ]
  },
  {
   "cell_type": "code",
   "execution_count": 5,
   "metadata": {},
   "outputs": [
    {
     "name": "stdout",
     "output_type": "stream",
     "text": [
      "360\n",
      "<class 'str'>\n",
      "<class 'int'>\n",
      "400\n",
      "<class 'str'>\n",
      "<class 'int'>\n"
     ]
    }
   ],
   "source": [
    "with open('test.QTX') as f:\n",
    "    lines = f.readlines()\n",
    "    #i = 1\n",
    "    for row in lines:\n",
    "        z = re.match(\"STD_REFLLOW=(\\d+),\", row)\n",
    "        if z:\n",
    "            #print(z)\n",
    "            ref_val = (z.groups()[0])\n",
    "            print(ref_val)\n",
    "            print(type(ref_val))\n",
    "            ref = int(ref_val)\n",
    "            print(type(ref))"
   ]
  },
  {
   "attachments": {},
   "cell_type": "markdown",
   "metadata": {},
   "source": [
    "## Wavelength intervals"
   ]
  },
  {
   "cell_type": "code",
   "execution_count": 7,
   "metadata": {},
   "outputs": [
    {
     "name": "stdout",
     "output_type": "stream",
     "text": [
      "10\n",
      "<class 'str'>\n",
      "<class 'int'>\n",
      "10\n",
      "<class 'str'>\n",
      "<class 'int'>\n"
     ]
    }
   ],
   "source": [
    "with open('test.QTX') as f:\n",
    "    lines = f.readlines()\n",
    "    #i = 1\n",
    "    for row in lines:\n",
    "        z = re.match(\"STD_REFLINTERVAL=(\\d+),\", row)\n",
    "        if z:\n",
    "            #print(z)\n",
    "            ref_val = (z.groups()[0])\n",
    "            print(ref_val)\n",
    "            print(type(ref_val))\n",
    "            ref = int(ref_val)\n",
    "            print(type(ref))"
   ]
  },
  {
   "attachments": {},
   "cell_type": "markdown",
   "metadata": {},
   "source": [
    "## Total reflection points"
   ]
  },
  {
   "cell_type": "code",
   "execution_count": 8,
   "metadata": {},
   "outputs": [
    {
     "name": "stdout",
     "output_type": "stream",
     "text": [
      "35\n",
      "<class 'str'>\n",
      "<class 'int'>\n",
      "31\n",
      "<class 'str'>\n",
      "<class 'int'>\n"
     ]
    }
   ],
   "source": [
    "with open('test.QTX') as f:\n",
    "    lines = f.readlines()\n",
    "    #i = 1\n",
    "    for row in lines:\n",
    "        z = re.match(\"STD_REFLPOINTS=(\\d+),\", row)\n",
    "        if z:\n",
    "            #print(z)\n",
    "            ref_val = (z.groups()[0])\n",
    "            print(ref_val)\n",
    "            print(type(ref_val))\n",
    "            ref = int(ref_val)\n",
    "            print(type(ref))"
   ]
  },
  {
   "attachments": {},
   "cell_type": "markdown",
   "metadata": {},
   "source": [
    "## Ending Wavelength"
   ]
  },
  {
   "cell_type": "code",
   "execution_count": 64,
   "metadata": {},
   "outputs": [
    {
     "name": "stdout",
     "output_type": "stream",
     "text": [
      "Starting wavelength:  ['360', '400']\n",
      "Total refl points:  ['35', '31']\n",
      "Intervals:  ['10', '10']\n",
      "Ref values:  ['21.2400,24.0800,27.2200,30.7600,34.8800,39.4800,44.1700,49.0100,52.8800,53.8400,52.3200,49.7800,46.5300,42.9700,39.4400,36.1000,32.8900,29.8100,26.9400,24.4000,22.1800,20.0700,18.2700,16.7900,15.6200,15.0700,14.9200,14.9200,15.2500,15.6500,15.3400,14.9500,16.0300,20.8000,29.3400', '23.7000,22.8400,22.3200,22.1000,22.2300,22.9700,24.1800,25.5100,26.9700,28.2900,29.8100,30.9000,31.6000,32.2100,32.2600,31.5000,31.0800,32.0000,34.0900,35.9100,36.5400,36.1700,35.9100,37.3200,41.0300,47.0000,54.2600,61.8000,68.5500,73.0300,76.5900']\n",
      "360\n",
      "35\n",
      "10\n",
      "Ending wavelength for 360:  710\n",
      "Reflectance points ['21.2400', '24.0800', '27.2200', '30.7600', '34.8800', '39.4800', '44.1700', '49.0100', '52.8800', '53.8400', '52.3200', '49.7800', '46.5300', '42.9700', '39.4400', '36.1000', '32.8900', '29.8100', '26.9400', '24.4000', '22.1800', '20.0700', '18.2700', '16.7900', '15.6200', '15.0700', '14.9200', '14.9200', '15.2500', '15.6500', '15.3400', '14.9500', '16.0300', '20.8000', '29.3400']\n",
      "400\n",
      "31\n",
      "10\n",
      "Ending wavelength for 400:  710\n",
      "Reflectance points ['23.7000', '22.8400', '22.3200', '22.1000', '22.2300', '22.9700', '24.1800', '25.5100', '26.9700', '28.2900', '29.8100', '30.9000', '31.6000', '32.2100', '32.2600', '31.5000', '31.0800', '32.0000', '34.0900', '35.9100', '36.5400', '36.1700', '35.9100', '37.3200', '41.0300', '47.0000', '54.2600', '61.8000', '68.5500', '73.0300', '76.5900']\n"
     ]
    }
   ],
   "source": [
    "with open('test.QTX') as f:\n",
    "    lines = f.read()\n",
    "    z = re.findall(\"STD_REFLLOW=(\\d+),\", lines)\n",
    "    print('Starting wavelength: ', z)\n",
    "    a = re.findall(\"STD_REFLPOINTS=(\\d+),\", lines)\n",
    "    print('Total refl points: ', a)\n",
    "    b = re.findall(\"STD_REFLINTERVAL=(\\d+),\", lines)\n",
    "    print('Intervals: ', b)\n",
    "    c = re.findall(\"STD_R[=,](.+)\", lines)\n",
    "    print('Ref values: ', c)\n",
    "    if z:\n",
    "        for i,j in enumerate(z):\n",
    "            ref_low = int(z[i])\n",
    "            ref_pts = int(a[i])\n",
    "            ref_intv = int(b[i])\n",
    "            print(ref_low)\n",
    "            print(ref_pts)\n",
    "            print(ref_intv)\n",
    "            print(f'Ending wavelength for {j}: ', ref_low+ref_pts*ref_intv)\n",
    "            print('Reflectance points', str(c[i]).split(','))"
   ]
  },
  {
   "cell_type": "code",
   "execution_count": 79,
   "metadata": {},
   "outputs": [
    {
     "name": "stdout",
     "output_type": "stream",
     "text": [
      "Starting wavelength:  ['360', '400']\n",
      "Total refl points:  ['35', '31']\n",
      "Intervals:  ['10', '10']\n",
      "ref_low=360\n",
      "ref_pts=35\n",
      "ref_intv=10\n",
      "Wavelength values:  [360, 370, 380, 390, 400, 410, 420, 430, 440, 450, 460, 470, 480, 490, 500, 510, 520, 530, 540, 550, 560, 570, 580, 590, 600, 610, 620, 630, 640, 650, 660, 670, 680, 690, 700]\n",
      "Reflectance values:  ['21.2400', '24.0800', '27.2200', '30.7600', '34.8800', '39.4800', '44.1700', '49.0100', '52.8800', '53.8400', '52.3200', '49.7800', '46.5300', '42.9700', '39.4400', '36.1000', '32.8900', '29.8100', '26.9400', '24.4000', '22.1800', '20.0700', '18.2700', '16.7900', '15.6200', '15.0700', '14.9200', '14.9200', '15.2500', '15.6500', '15.3400', '14.9500', '16.0300', '20.8000', '29.3400']\n",
      "ref_low=400\n",
      "ref_pts=31\n",
      "ref_intv=10\n",
      "Wavelength values:  [400, 410, 420, 430, 440, 450, 460, 470, 480, 490, 500, 510, 520, 530, 540, 550, 560, 570, 580, 590, 600, 610, 620, 630, 640, 650, 660, 670, 680, 690, 700]\n",
      "Reflectance values:  ['23.7000', '22.8400', '22.3200', '22.1000', '22.2300', '22.9700', '24.1800', '25.5100', '26.9700', '28.2900', '29.8100', '30.9000', '31.6000', '32.2100', '32.2600', '31.5000', '31.0800', '32.0000', '34.0900', '35.9100', '36.5400', '36.1700', '35.9100', '37.3200', '41.0300', '47.0000', '54.2600', '61.8000', '68.5500', '73.0300', '76.5900']\n"
     ]
    }
   ],
   "source": [
    "with open('test.QTX') as f:\n",
    "    lines = f.read()\n",
    "    z = re.findall(\"STD_REFLLOW=(\\d+),\", lines)\n",
    "    print('Starting wavelength: ', z)\n",
    "    a = re.findall(\"STD_REFLPOINTS=(\\d+),\", lines)\n",
    "    print('Total refl points: ', a)\n",
    "    b = re.findall(\"STD_REFLINTERVAL=(\\d+),\", lines)\n",
    "    print('Intervals: ', b)\n",
    "    c = re.findall(\"STD_R[=,](.+)\", lines)\n",
    "    #print('Ref values: ', c)\n",
    "    #print(range())\n",
    "    if z:\n",
    "        for i,j in enumerate(z):\n",
    "            ref_low = int(z[i])\n",
    "            ref_pts = int(a[i])\n",
    "            ref_intv = int(b[i])\n",
    "            print(f'{ref_low=}')\n",
    "            print(f'{ref_pts=}')\n",
    "            print(f'{ref_intv=}')\n",
    "            print('Wavelength values: ', [k for k in range(ref_low, ref_low+ref_pts*ref_intv, ref_intv)])\n",
    "            #print(f'Ending wavelength for {j}: ', ref_low+ref_pts*ref_intv)\n",
    "            print('Reflectance values: ', str(c[i]).split(','))"
   ]
  },
  {
   "cell_type": "code",
   "execution_count": null,
   "metadata": {},
   "outputs": [],
   "source": []
  }
 ],
 "metadata": {
  "kernelspec": {
   "display_name": "Python 3 (ipykernel)",
   "language": "python",
   "name": "python3"
  },
  "language_info": {
   "codemirror_mode": {
    "name": "ipython",
    "version": 3
   },
   "file_extension": ".py",
   "mimetype": "text/x-python",
   "name": "python",
   "nbconvert_exporter": "python",
   "pygments_lexer": "ipython3",
   "version": "3.10.0"
  },
  "vscode": {
   "interpreter": {
    "hash": "369f2c481f4da34e4445cda3fffd2e751bd1c4d706f27375911949ba6bb62e1c"
   }
  }
 },
 "nbformat": 4,
 "nbformat_minor": 2
}
